{
  "nbformat": 4,
  "nbformat_minor": 0,
  "metadata": {
    "colab": {
      "provenance": [],
      "authorship_tag": "ABX9TyM3tTOnHDvqwA5dEE0UKxih",
      "include_colab_link": true
    },
    "kernelspec": {
      "name": "python3",
      "display_name": "Python 3"
    },
    "language_info": {
      "name": "python"
    }
  },
  "cells": [
    {
      "cell_type": "markdown",
      "metadata": {
        "id": "view-in-github",
        "colab_type": "text"
      },
      "source": [
        "<a href=\"https://colab.research.google.com/github/Rwolste/DS2002-Asignments/blob/main/LivePlaneTracker.ipynb\" target=\"_parent\"><img src=\"https://colab.research.google.com/assets/colab-badge.svg\" alt=\"Open In Colab\"/></a>"
      ]
    },
    {
      "cell_type": "code",
      "source": [
        "import requests\n",
        "import pandas as pd\n",
        "\n",
        "# OpenSky API endpoint for live aircraft states\n",
        "API_URL = \"https://opensky-network.org/api/states/all\"\n",
        "\n",
        "def get_aircraft_location(icao24):\n",
        "    \"\"\"Fetch and display real-time location of an aircraft using its ICAO 24-bit code.\"\"\"\n",
        "    response = requests.get(API_URL)\n",
        "\n",
        "    if response.status_code == 200:\n",
        "        data = response.json()\n",
        "        states = data.get(\"states\", [])\n",
        "\n",
        "        # Search for the aircraft by ICAO code\n",
        "        for aircraft in states:\n",
        "            if aircraft[0].lower() == icao24.lower():\n",
        "                flight_info = {\n",
        "                    \"ICAO24\": aircraft[0].upper(),\n",
        "                    \"Callsign\": aircraft[1] if aircraft[1] else \"Unknown\",\n",
        "                    \"Latitude\": aircraft[6],\n",
        "                    \"Longitude\": aircraft[5],\n",
        "                    \"Altitude (m)\": aircraft[7],\n",
        "                    \"Ground Speed (m/s)\": aircraft[9],\n",
        "                    \"Last Seen\": aircraft[4],\n",
        "                    \"On Ground\": aircraft[8]\n",
        "                }\n",
        "\n",
        "                # Convert to DataFrame for clean display\n",
        "                df = pd.DataFrame([flight_info])\n",
        "\n",
        "                # Display results\n",
        "                print(\"\\nAircraft Real-Time Location:\")\n",
        "                print(df.to_string(index=False))\n",
        "                return\n",
        "\n",
        "        print(f\"No data found for ICAO code: {icao24.upper()}\")\n",
        "    else:\n",
        "        print(f\"API Error: {response.status_code}\")\n",
        "\n",
        "# Get ICAO 24-bit code from user\n",
        "icao_code = input(\"Enter ICAO 24-bit Code: \").strip()\n",
        "get_aircraft_location(icao_code)\n"
      ],
      "metadata": {
        "colab": {
          "base_uri": "https://localhost:8080/"
        },
        "id": "Os_-8KXgGrgS",
        "outputId": "89f7e931-2a87-4b25-b945-c5e207f11b57"
      },
      "execution_count": null,
      "outputs": [
        {
          "output_type": "stream",
          "name": "stdout",
          "text": [
            "Enter ICAO 24-bit Code: A55B7F   \n",
            "\n",
            "Aircraft Real-Time Location:\n",
            "ICAO24 Callsign  Latitude  Longitude  Altitude (m)  Ground Speed (m/s)  Last Seen  On Ground\n",
            "A55B7F N444WT     31.3952   -90.6087       14325.6              231.44 1740604356      False\n"
          ]
        }
      ]
    }
  ]
}